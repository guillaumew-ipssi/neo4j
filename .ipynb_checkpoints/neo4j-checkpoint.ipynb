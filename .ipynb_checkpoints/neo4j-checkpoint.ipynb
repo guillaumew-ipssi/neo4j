{
 "cells": [
  {
   "cell_type": "code",
   "execution_count": 5,
   "id": "c06bc75f",
   "metadata": {},
   "outputs": [],
   "source": [
    "# Installation driver"
   ]
  },
  {
   "cell_type": "code",
   "execution_count": 1,
   "id": "77deddb6",
   "metadata": {},
   "outputs": [
    {
     "name": "stdout",
     "output_type": "stream",
     "text": [
      "Requirement already satisfied: neo4j-driver in /home/guillaume/.local/lib/python3.8/site-packages (4.4.3)\n",
      "Requirement already satisfied: pytz in /home/guillaume/.local/lib/python3.8/site-packages (from neo4j-driver) (2022.1)\n",
      "Note: you may need to restart the kernel to use updated packages.\n"
     ]
    }
   ],
   "source": [
    "pip install neo4j-driver"
   ]
  },
  {
   "cell_type": "code",
   "execution_count": 12,
   "id": "4fdc82b7",
   "metadata": {},
   "outputs": [],
   "source": [
    "from neo4j import GraphDatabase"
   ]
  },
  {
   "cell_type": "code",
   "execution_count": 17,
   "id": "eab599a1",
   "metadata": {},
   "outputs": [],
   "source": [
    "driver = GraphDatabase.driver(\"neo4j://localhost:7687\", auth=(\"ipssiDemo\", \"demoIpssi\"))"
   ]
  },
  {
   "cell_type": "markdown",
   "id": "b6e1a92d",
   "metadata": {},
   "source": [
    "# Show the categories"
   ]
  },
  {
   "cell_type": "code",
   "execution_count": 31,
   "id": "9eca3add",
   "metadata": {},
   "outputs": [
    {
     "name": "stdout",
     "output_type": "stream",
     "text": [
      "{'n': {'description': 'Soft drinks, coffees, teas, beers, and ales', 'categoryName': 'Beverages', 'categoryID': '1'}}\n",
      "{'n': {'description': 'Sweet and savory sauces, relishes, spreads, and seasonings', 'categoryName': 'Condiments', 'categoryID': '2'}}\n",
      "{'n': {'description': 'Desserts, candies, and sweet breads', 'categoryName': 'Confections', 'categoryID': '3'}}\n",
      "{'n': {'description': 'Cheeses', 'categoryName': 'Dairy Products', 'categoryID': '4'}}\n",
      "{'n': {'description': 'Breads, crackers, pasta, and cereal', 'categoryName': 'Grains/Cereals', 'categoryID': '5'}}\n",
      "{'n': {'description': 'Prepared meats', 'categoryName': 'Meat/Poultry', 'categoryID': '6'}}\n",
      "{'n': {'description': 'Dried fruit and bean curd', 'categoryName': 'Produce', 'categoryID': '7'}}\n",
      "{'n': {'description': 'Seaweed and fish', 'categoryName': 'Seafood', 'categoryID': '8'}}\n",
      "{'n': {'Description': 'test description', 'Picture': '\\\\x', 'categoryName': 'test name'}}\n"
     ]
    }
   ],
   "source": [
    "cypher_query = '''\n",
    "MATCH (n:Category)\n",
    "RETURN n\n",
    "LIMIT 25\n",
    "'''\n",
    "\n",
    "with driver.session(database=\"neo4j\") as session:\n",
    "  results = session.read_transaction(\n",
    "    lambda tx: tx.run(cypher_query).data())\n",
    "\n",
    "  for record in results:\n",
    "    print(record)\n",
    "\n",
    "driver.close()"
   ]
  },
  {
   "cell_type": "markdown",
   "id": "3c800f26",
   "metadata": {},
   "source": [
    "# Create a node"
   ]
  },
  {
   "cell_type": "code",
   "execution_count": null,
   "id": "4a917823",
   "metadata": {},
   "outputs": [],
   "source": [
    "cypher_query = '''\n",
    "CREATE (n:Category {Description: 'test description', Picture: '\\x', categoryName: \"test name\"})\n",
    "RETURN n\n",
    "'''\n",
    "\n",
    "with driver.session(database=\"neo4j\") as session:\n",
    "  results = session.read_transaction(\n",
    "    lambda tx: tx.run(cypher_query).data())\n",
    "\n",
    "  for record in results:\n",
    "    print(record)\n",
    "\n",
    "driver.close()"
   ]
  },
  {
   "cell_type": "markdown",
   "id": "4fada41f",
   "metadata": {},
   "source": [
    "# Update node"
   ]
  },
  {
   "cell_type": "code",
   "execution_count": 30,
   "id": "7d36b3a6",
   "metadata": {},
   "outputs": [
    {
     "name": "stdout",
     "output_type": "stream",
     "text": [
      "{'n.categoryName': 'test name'}\n"
     ]
    }
   ],
   "source": [
    "# MAJ de toutes les propriétés {categoryName: 'Test category name', Description: 'Test category Description'}\n",
    "\n",
    "cypher_query = '''\n",
    "MATCH (n:Category{categoryName: 'test name'})\n",
    "SET n.categoryName = 'test name update'\n",
    "RETURN n.categoryName\n",
    "'''\n",
    "\n",
    "with driver.session(database=\"neo4j\") as session:\n",
    "  results = session.write_transaction(\n",
    "    lambda tx: tx.run(cypher_query).data())\n",
    "\n",
    "driver.close()"
   ]
  },
  {
   "cell_type": "markdown",
   "id": "e602ef22",
   "metadata": {},
   "source": [
    "#  Delete node"
   ]
  },
  {
   "cell_type": "code",
   "execution_count": null,
   "id": "ab296092",
   "metadata": {},
   "outputs": [],
   "source": [
    "cypher_query = '''\n",
    "MATCH (n:Category {name: 'test name update'})\n",
    "DELETE n\n",
    "'''\n",
    "\n",
    "with driver.session(database=\"neo4j\") as session:\n",
    "  results = session.write_transaction(\n",
    "    lambda tx: tx.run(cypher_query).data())\n",
    "\n",
    "driver.close()"
   ]
  },
  {
   "cell_type": "markdown",
   "id": "c2fd017f",
   "metadata": {},
   "source": [
    "# Show products for each consumer's order"
   ]
  },
  {
   "cell_type": "code",
   "execution_count": 34,
   "id": "287340df",
   "metadata": {},
   "outputs": [
    {
     "name": "stdout",
     "output_type": "stream",
     "text": [
      "{'Order': '10925', 'Products': ['Filo Mix', 'Inlagd Sill']}\n",
      "{'Order': '10981', 'Products': ['Côte de Blaye']}\n",
      "{'Order': '10903', 'Products': ['Louisiana Fiery Hot Pepper Sauce', 'Scottish Longbreads', 'Konbu']}\n",
      "{'Order': '11022', 'Products': ['Gudbrandsdalsost', 'Teatime Chocolate Biscuits']}\n",
      "{'Order': '10690', 'Products': ['Gnocchi di nonna Alice', 'Original Frankfurter grüne Soße']}\n",
      "{'Order': '10770', 'Products': ['Queso Cabrales']}\n",
      "{'Order': '10886', 'Products': ['Original Frankfurter grüne Soße', 'Gorgonzola Telino', 'Ikura']}\n",
      "{'Order': '10922', 'Products': ['Alice Mutton', 'Guaraná Fantástica']}\n",
      "{'Order': '10645', 'Products': ['Carnarvon Tigers', 'Inlagd Sill']}\n",
      "{'Order': '11052', 'Products': [\"Sirop d'érable\", 'Ipoh Coffee']}\n",
      "{'Order': '10541', 'Products': ['Guaraná Fantástica', 'Flotemysost', 'Côte de Blaye', 'Louisiana Fiery Hot Pepper Sauce']}\n",
      "{'Order': '10253', 'Products': ['Maxilaku', 'Chartreuse verte', 'Gorgonzola Telino']}\n",
      "{'Order': '10783', 'Products': ['Côte de Blaye', 'Gorgonzola Telino']}\n",
      "{'Order': '10250', 'Products': ['Louisiana Fiery Hot Pepper Sauce', 'Manjimup Dried Apples', \"Jack's New England Clam Chowder\"]}\n"
     ]
    }
   ],
   "source": [
    "cypher_query = '''\n",
    "MATCH (c:Customer)-[:PURCHASED]->(o:Order)-[:PRODUCT]->(p:Product)\n",
    "WHERE c.companyName='Hanari Carnes'\n",
    "RETURN o.orderID AS Order, collect(p.productName) AS Products\n",
    "'''\n",
    "\n",
    "with driver.session(database=\"neo4j\") as session:\n",
    "  results = session.write_transaction(\n",
    "    lambda tx: tx.run(cypher_query).data())\n",
    "\n",
    "  for record in results:\n",
    "    print(record)\n",
    "    \n",
    "driver.close()"
   ]
  },
  {
   "cell_type": "code",
   "execution_count": null,
   "id": "4096c06c",
   "metadata": {},
   "outputs": [],
   "source": []
  }
 ],
 "metadata": {
  "kernelspec": {
   "display_name": "Python 3 (ipykernel)",
   "language": "python",
   "name": "python3"
  },
  "language_info": {
   "codemirror_mode": {
    "name": "ipython",
    "version": 3
   },
   "file_extension": ".py",
   "mimetype": "text/x-python",
   "name": "python",
   "nbconvert_exporter": "python",
   "pygments_lexer": "ipython3",
   "version": "3.8.10"
  }
 },
 "nbformat": 4,
 "nbformat_minor": 5
}
